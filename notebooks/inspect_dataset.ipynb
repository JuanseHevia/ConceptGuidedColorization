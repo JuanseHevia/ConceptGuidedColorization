{
 "cells": [
  {
   "cell_type": "code",
   "execution_count": 1,
   "metadata": {},
   "outputs": [
    {
     "name": "stdout",
     "output_type": "stream",
     "text": [
      "/Users/juansegundohevia/Documents/repos/ELEC542-TextGuidedRecolorization\n"
     ]
    }
   ],
   "source": [
    "%cd .."
   ]
  },
  {
   "cell_type": "code",
   "execution_count": 2,
   "metadata": {},
   "outputs": [],
   "source": [
    "import os \n",
    "import pickle as pkl"
   ]
  },
  {
   "cell_type": "code",
   "execution_count": 6,
   "metadata": {},
   "outputs": [
    {
     "name": "stdout",
     "output_type": "stream",
     "text": [
      "Loading 9165 palette names...\n",
      "Making text dictionary...\n"
     ]
    }
   ],
   "source": [
    "src_path = os.path.join('./data/hexcolor_vf/train_names.pkl')\n",
    "with open(src_path, 'rb') as f:\n",
    "    names = pkl.load(f)\n",
    "\n",
    "print(\"Loading %s palette names...\" % len(names))\n",
    "print(\"Making text dictionary...\")"
   ]
  },
  {
   "cell_type": "code",
   "execution_count": 8,
   "metadata": {},
   "outputs": [
    {
     "data": {
      "text/plain": [
       "[['it', 'is', 'cold'],\n",
       " ['gloomy', 'blue'],\n",
       " ['ugly'],\n",
       " ['screaming', 'into', 'the', 'void'],\n",
       " ['green'],\n",
       " ['grape', 'to', 'strawberry'],\n",
       " ['fresh', 'squeezed', 'orange', 'juice'],\n",
       " ['depression', 'days'],\n",
       " ['shoot'],\n",
       " ['day', 'in', 'the', 'rainforest']]"
      ]
     },
     "execution_count": 8,
     "metadata": {},
     "output_type": "execute_result"
    }
   ],
   "source": [
    "names[:10]"
   ]
  },
  {
   "cell_type": "code",
   "execution_count": 9,
   "metadata": {},
   "outputs": [
    {
     "data": {
      "text/plain": [
       "[[(86, 131, 192),\n",
       "  (151, 221, 209),\n",
       "  (128, 109, 212),\n",
       "  (160, 208, 218),\n",
       "  (191, 167, 229)],\n",
       " [(57, 89, 118), (73, 112, 135), (27, 99, 135), (34, 77, 109), (28, 56, 77)],\n",
       " [(111, 46, 46), (62, 89, 163), (99, 78, 46), (81, 88, 23), (56, 50, 53)],\n",
       " [(134, 156, 165), (140, 118, 159), (90, 57, 114), (49, 17, 81), (43, 5, 41)]]"
      ]
     },
     "execution_count": 9,
     "metadata": {},
     "output_type": "execute_result"
    }
   ],
   "source": [
    "with open('./data/hexcolor_vf/train_palettes_rgb.pkl', 'rb') as f:\n",
    "    pals = pkl.load(f)\n",
    "\n",
    "pals[:4]"
   ]
  },
  {
   "cell_type": "code",
   "execution_count": 10,
   "metadata": {},
   "outputs": [],
   "source": [
    "import matplotlib.pyplot as plt\n",
    "import numpy as np\n",
    "def visualize_palette(palette: list, name:str = None):\n",
    "    '''\n",
    "    Take a list of 5 RGB colors defined as (R, G, B) in the range [0, 255]\n",
    "    and plot them as a horizontal bar of squares.\n",
    "    '''\n",
    "    palette = np.array(palette) / 255.0\n",
    "    plt.figure(figsize=(8, 2))\n",
    "    plt.imshow([palette], aspect='auto')\n",
    "    plt.axis('off')\n",
    "    if name:\n",
    "        plt.title(name)\n",
    "    plt.show()"
   ]
  },
  {
   "cell_type": "code",
   "execution_count": 31,
   "metadata": {},
   "outputs": [
    {
     "data": {
      "image/png": "[encoded data removed]",
      "text/plain": [
       "<Figure size 800x200 with 1 Axes>"
      ]
     },
     "metadata": {},
     "output_type": "display_data"
    }
   ],
   "source": [
    "idx = np.random.randint(len(pals))  # get a random index\n",
    "visualize_palette(pals[idx], names[idx])  # visualize first palette"
   ]
  }
 ],
 "metadata": {
  "kernelspec": {
   "display_name": "elec542project",
   "language": "python",
   "name": "python3"
  },
  "language_info": {
   "codemirror_mode": {
    "name": "ipython",
    "version": 3
   },
   "file_extension": ".py",
   "mimetype": "text/x-python",
   "name": "python",
   "nbconvert_exporter": "python",
   "pygments_lexer": "ipython3",
   "version": "3.10.15"
  }
 },
 "nbformat": 4,
 "nbformat_minor": 2
}
