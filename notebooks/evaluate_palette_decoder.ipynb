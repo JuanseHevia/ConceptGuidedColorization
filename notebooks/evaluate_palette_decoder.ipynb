{
 "cells": [
  {
   "cell_type": "code",
   "execution_count": 1,
   "metadata": {},
   "outputs": [
    {
     "name": "stdout",
     "output_type": "stream",
     "text": [
      "/Users/juansegundohevia/Documents/repos/ConceptGuidedColorization\n"
     ]
    }
   ],
   "source": [
    "%cd .."
   ]
  },
  {
   "cell_type": "code",
   "execution_count": 3,
   "metadata": {},
   "outputs": [
    {
     "name": "stderr",
     "output_type": "stream",
     "text": [
      "/Users/juansegundohevia/anaconda3/envs/elec542project/lib/python3.10/site-packages/tqdm/auto.py:21: TqdmWarning: IProgress not found. Please update jupyter and ipywidgets. See https://ipywidgets.readthedocs.io/en/stable/user_install.html\n",
      "  from .autonotebook import tqdm as notebook_tqdm\n"
     ]
    }
   ],
   "source": [
    "import os \n",
    "import numpy as np\n",
    "from PIL import Image\n",
    "import matplotlib.pyplot as plt\n",
    "from palette_model.PaletteGeneration import PaletteDecoder\n",
    "from munch import Munch\n",
    "import torch\n",
    "import open_clip"
   ]
  },
  {
   "cell_type": "code",
   "execution_count": 4,
   "metadata": {},
   "outputs": [],
   "source": [
    "import warnings \n",
    "from skimage.color import lab2rgb, rgb2lab\n",
    "\n",
    "def lab2rgb_1d(in_lab, clip=True):\n",
    "    warnings.filterwarnings(\"ignore\")\n",
    "    tmp_rgb = lab2rgb(in_lab[np.newaxis, np.newaxis, :], illuminant='D50').flatten()\n",
    "    if clip:\n",
    "        tmp_rgb = np.clip(tmp_rgb, 0, 1)\n",
    "    return tmp_rgb"
   ]
  },
  {
   "cell_type": "code",
   "execution_count": 6,
   "metadata": {},
   "outputs": [],
   "source": [
    "# model config\n",
    "\n",
    "CONFIG = {\n",
    "    \"learning_rate\": 1e-4,\n",
    "    \"batch_size\": 256,\n",
    "    \"num_epochs\": 5000,\n",
    "    \"max_len\": 10,\n",
    "    \"embedding_dim\": 512,\n",
    "    \"num_blocks\": 4,\n",
    "    \"reduce_factor\": 2,\n",
    "    \"save_every\": 250,\n",
    "    \"train_embeddings\": \"data/clip_embs/train_palette_prompts.pt\",\n",
    "    \"train_trg_path\": \"data/hexcolor_vf/train_palettes_rgb.pkl\",\n",
    "    \"test_embeddings\": \"data/clip_embs/test_palette_prompts.pt\",\n",
    "    \"test_trg_path\": \"data/hexcolor_vf/train_palettes_rgb.pkl\",\n",
    "    \"resume\": False,\n",
    "    \"save_dir\": \"weights/PaletteEncoder\"\n",
    "}\n",
    "\n",
    "config = Munch(CONFIG)\n"
   ]
  },
  {
   "cell_type": "code",
   "execution_count": 7,
   "metadata": {},
   "outputs": [],
   "source": [
    "# load checkpoints\n",
    "PATH = \"20241101-105348\"\n",
    "ckps_all = os.listdir(os.path.join(config.save_dir, PATH))\n",
    "# get max epoch ckp\n",
    "ckps = [ckp for ckp in ckps_all if \"epoch\" in ckp]\n",
    "max_epoch = max([int(ckp.split(\".\")[0].split(\"_\")[2]) for ckp in ckps])\n",
    "ckp_path = os.path.join(config.save_dir, PATH, f\"model_epoch_{max_epoch}.pth\")"
   ]
  },
  {
   "cell_type": "code",
   "execution_count": 8,
   "metadata": {},
   "outputs": [
    {
     "data": {
      "text/plain": [
       "'weights/PaletteEncoder/20241101-105348/model_epoch_4750.pth'"
      ]
     },
     "execution_count": 8,
     "metadata": {},
     "output_type": "execute_result"
    }
   ],
   "source": [
    "ckp_path"
   ]
  },
  {
   "cell_type": "code",
   "execution_count": 9,
   "metadata": {},
   "outputs": [
    {
     "name": "stderr",
     "output_type": "stream",
     "text": [
      "/var/folders/2c/s1dc7gqn0jz4dls2kprq822m0000gn/T/ipykernel_74715/2621736207.py:6: FutureWarning: You are using `torch.load` with `weights_only=False` (the current default value), which uses the default pickle module implicitly. It is possible to construct malicious pickle data which will execute arbitrary code during unpickling (See https://github.com/pytorch/pytorch/blob/main/SECURITY.md#untrusted-models for more details). In a future release, the default value for `weights_only` will be flipped to `True`. This limits the functions that could be executed during unpickling. Arbitrary objects will no longer be allowed to be loaded via this mode unless they are explicitly allowlisted by the user via `torch.serialization.add_safe_globals`. We recommend you start setting `weights_only=True` for any use case where you don't have full control of the loaded file. Please open an issue on GitHub for any issues related to this experimental feature.\n",
      "  dec.load_state_dict(torch.load(ckp_path))\n"
     ]
    },
    {
     "data": {
      "text/plain": [
       "False"
      ]
     },
     "execution_count": 9,
     "metadata": {},
     "output_type": "execute_result"
    }
   ],
   "source": [
    "dec = PaletteDecoder(n_blocks=config.num_blocks,\n",
    "                       in_channels=config.embedding_dim,\n",
    "                       num_colors=5,\n",
    "                       reduce_factor=config.reduce_factor)\n",
    "\n",
    "dec.load_state_dict(torch.load(ckp_path))\n",
    "dec.eval()\n",
    "dec.training"
   ]
  },
  {
   "cell_type": "code",
   "execution_count": 10,
   "metadata": {},
   "outputs": [
    {
     "data": {
      "text/plain": [
       "False"
      ]
     },
     "execution_count": 10,
     "metadata": {},
     "output_type": "execute_result"
    }
   ],
   "source": [
    "# load CLIP tokenizer and model\n",
    "device = \"mps\" if torch.cuda.is_available() else \"cpu\"\n",
    "MODEL_NAME = \"ViT-B-32\"\n",
    "tokenizer = open_clip.get_tokenizer(MODEL_NAME)\n",
    "model, _, _ = open_clip.create_model_and_transforms(MODEL_NAME, pretrained='laion2b_s34b_b79k')\n",
    "model.eval()\n",
    "model.training"
   ]
  },
  {
   "cell_type": "code",
   "execution_count": 26,
   "metadata": {},
   "outputs": [
    {
     "name": "stdout",
     "output_type": "stream",
     "text": [
      "embedding size:  torch.Size([1, 512])\n",
      "result output size: torch.Size([1, 5, 3])\n"
     ]
    },
    {
     "data": {
      "image/png": "[encoded data removed]",
      "text/plain": [
       "<Figure size 640x480 with 5 Axes>"
      ]
     },
     "metadata": {},
     "output_type": "display_data"
    }
   ],
   "source": [
    "# make inference\n",
    "text = \"more dramatic\"\n",
    "tokens = tokenizer(text)\n",
    "emb = model.encode_text(tokens.to(device))\n",
    "print(\"embedding size: \", emb.size())\n",
    "\n",
    "# Repeat the input tensor along the channel dimension to have 3 channels\n",
    "res = dec(emb.squeeze(0))\n",
    "print(\"result output size:\", res.size())\n",
    "\n",
    "\n",
    "# plot palette using 5 color patches\n",
    "colors = res.detach().cpu().numpy().reshape(-1, 3)\n",
    "\n",
    "rgb = lab2rgb_1d(colors)\n",
    "rgb = rgb.reshape(-1, 3)\n",
    "\n",
    "for i, color in enumerate(colors):\n",
    "    plt.subplot(1, 5, i+1)\n",
    "    plt.imshow(np.ones((100, 100, 3)) * color)\n",
    "    plt.axis(\"off\")\n"
   ]
  },
  {
   "cell_type": "code",
   "execution_count": null,
   "metadata": {},
   "outputs": [],
   "source": []
  }
 ],
 "metadata": {
  "kernelspec": {
   "display_name": "elec542project",
   "language": "python",
   "name": "python3"
  },
  "language_info": {
   "codemirror_mode": {
    "name": "ipython",
    "version": 3
   },
   "file_extension": ".py",
   "mimetype": "text/x-python",
   "name": "python",
   "nbconvert_exporter": "python",
   "pygments_lexer": "ipython3",
   "version": "3.10.15"
  }
 },
 "nbformat": 4,
 "nbformat_minor": 2
}
