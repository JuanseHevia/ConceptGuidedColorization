{
 "cells": [
  {
   "cell_type": "code",
   "execution_count": 1,
   "metadata": {},
   "outputs": [
    {
     "name": "stdout",
     "output_type": "stream",
     "text": [
      "/Users/juansegundohevia/Documents/repos/ELEC542-TextGuidedRecolorization\n"
     ]
    }
   ],
   "source": [
    "%cd .."
   ]
  },
  {
   "cell_type": "code",
   "execution_count": 7,
   "metadata": {},
   "outputs": [],
   "source": [
    "from model.palette_model import PaletteGeneration as model_utils\n",
    "import os \n",
    "import data_loader as dl\n",
    "import torch\n",
    "import numpy as np\n",
    "import matplotlib.pyplot as plt\n",
    "from PIL import Image\n",
    "from munch import Munch\n"
   ]
  },
  {
   "cell_type": "code",
   "execution_count": 19,
   "metadata": {},
   "outputs": [],
   "source": [
    "CONFIG = {\n",
    "    \"learning_rate\": 1e-4,\n",
    "    \"batch_size\": 256,\n",
    "    \"num_epochs\": 5000,\n",
    "    \"max_len\": 10,\n",
    "    \"embedding_dim\": 512,\n",
    "    \"num_blocks\": 3,\n",
    "    \"reduce_factor\": 2,\n",
    "    \"save_every\": 250,\n",
    "    \"train_src_path\": \"data/hexcolor_vf/train_names.pkl\",\n",
    "    \"train_trg_path\": \"data/hexcolor_vf/train_palettes_rgb.pkl\",\n",
    "    \"test_src_path\": \"data/hexcolor_vf/train_names.pkl\",\n",
    "    \"test_trg_path\": \"data/hexcolor_vf/train_palettes_rgb.pkl\",\n",
    "    \"resume\": False,\n",
    "    \"save_dir\": \"models/PaletteEncoder\"\n",
    "}\n",
    "config = Munch(CONFIG)"
   ]
  },
  {
   "cell_type": "code",
   "execution_count": 20,
   "metadata": {},
   "outputs": [],
   "source": [
    "_model = model_utils.PaletteDecoder(n_blocks=config.num_blocks,\n",
    "                           in_channels=config.embedding_dim, \n",
    "                           num_colors=5,\n",
    "                           reduce_factor=config.reduce_factor)"
   ]
  },
  {
   "cell_type": "code",
   "execution_count": 21,
   "metadata": {},
   "outputs": [
    {
     "name": "stdout",
     "output_type": "stream",
     "text": [
      "PaletteDecoder(\n",
      "  (layers): ModuleList(\n",
      "    (0): DecoderBlock(\n",
      "      (layers): ModuleList(\n",
      "        (0): Linear(in_features=512, out_features=512, bias=True)\n",
      "        (1): ReLU()\n",
      "        (2): Linear(in_features=512, out_features=512, bias=True)\n",
      "        (3): ReLU()\n",
      "        (4): Linear(in_features=512, out_features=512, bias=True)\n",
      "        (5): ReLU()\n",
      "        (6): Linear(in_features=512, out_features=1024, bias=True)\n",
      "      )\n",
      "    )\n",
      "    (1): DecoderBlock(\n",
      "      (layers): ModuleList(\n",
      "        (0): Linear(in_features=1024, out_features=1024, bias=True)\n",
      "        (1): ReLU()\n",
      "        (2): Linear(in_features=1024, out_features=1024, bias=True)\n",
      "        (3): ReLU()\n",
      "        (4): Linear(in_features=1024, out_features=1024, bias=True)\n",
      "        (5): ReLU()\n",
      "        (6): Linear(in_features=1024, out_features=2048, bias=True)\n",
      "      )\n",
      "    )\n",
      "    (2): DecoderBlock(\n",
      "      (layers): ModuleList(\n",
      "        (0): Linear(in_features=2048, out_features=2048, bias=True)\n",
      "        (1): ReLU()\n",
      "        (2): Linear(in_features=2048, out_features=2048, bias=True)\n",
      "        (3): ReLU()\n",
      "        (4): Linear(in_features=2048, out_features=2048, bias=True)\n",
      "        (5): ReLU()\n",
      "        (6): Linear(in_features=2048, out_features=4096, bias=True)\n",
      "      )\n",
      "    )\n",
      "  )\n",
      "  (final_layer): Linear(in_features=4096, out_features=15, bias=True)\n",
      ")\n",
      "DecoderBlock(\n",
      "  (layers): ModuleList(\n",
      "    (0): Linear(in_features=512, out_features=512, bias=True)\n",
      "    (1): ReLU()\n",
      "    (2): Linear(in_features=512, out_features=512, bias=True)\n",
      "    (3): ReLU()\n",
      "    (4): Linear(in_features=512, out_features=512, bias=True)\n",
      "    (5): ReLU()\n",
      "    (6): Linear(in_features=512, out_features=1024, bias=True)\n",
      "  )\n",
      ")\n",
      "DecoderBlock(\n",
      "  (layers): ModuleList(\n",
      "    (0): Linear(in_features=1024, out_features=1024, bias=True)\n",
      "    (1): ReLU()\n",
      "    (2): Linear(in_features=1024, out_features=1024, bias=True)\n",
      "    (3): ReLU()\n",
      "    (4): Linear(in_features=1024, out_features=1024, bias=True)\n",
      "    (5): ReLU()\n",
      "    (6): Linear(in_features=1024, out_features=2048, bias=True)\n",
      "  )\n",
      ")\n",
      "DecoderBlock(\n",
      "  (layers): ModuleList(\n",
      "    (0): Linear(in_features=2048, out_features=2048, bias=True)\n",
      "    (1): ReLU()\n",
      "    (2): Linear(in_features=2048, out_features=2048, bias=True)\n",
      "    (3): ReLU()\n",
      "    (4): Linear(in_features=2048, out_features=2048, bias=True)\n",
      "    (5): ReLU()\n",
      "    (6): Linear(in_features=2048, out_features=4096, bias=True)\n",
      "  )\n",
      ")\n",
      "Linear(in_features=4096, out_features=15, bias=True)\n"
     ]
    }
   ],
   "source": [
    "_model.get_arch()"
   ]
  },
  {
   "cell_type": "code",
   "execution_count": 38,
   "metadata": {},
   "outputs": [
    {
     "data": {
      "text/plain": [
       "<module 'data_loader' from '/Users/juansegundohevia/Documents/repos/ELEC542-TextGuidedRecolorization/data_loader.py'>"
      ]
     },
     "execution_count": 38,
     "metadata": {},
     "output_type": "execute_result"
    }
   ],
   "source": [
    "import importlib\n",
    "importlib.reload(dl)"
   ]
  },
  {
   "cell_type": "code",
   "execution_count": 39,
   "metadata": {},
   "outputs": [
    {
     "name": "stderr",
     "output_type": "stream",
     "text": [
      "100%|██████████| 9165/9165 [00:00<00:00, 11162.03it/s]\n"
     ]
    }
   ],
   "source": [
    "_data = dl.Text2PaletteDataset(config.train_src_path, config.train_trg_path, batch_size=config.batch_size)"
   ]
  },
  {
   "cell_type": "code",
   "execution_count": null,
   "metadata": {},
   "outputs": [],
   "source": []
  }
 ],
 "metadata": {
  "kernelspec": {
   "display_name": "elec542project",
   "language": "python",
   "name": "python3"
  },
  "language_info": {
   "codemirror_mode": {
    "name": "ipython",
    "version": 3
   },
   "file_extension": ".py",
   "mimetype": "text/x-python",
   "name": "python",
   "nbconvert_exporter": "python",
   "pygments_lexer": "ipython3",
   "version": "3.10.15"
  }
 },
 "nbformat": 4,
 "nbformat_minor": 2
}
