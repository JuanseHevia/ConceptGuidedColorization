{
 "cells": [
  {
   "cell_type": "code",
   "execution_count": 5,
   "metadata": {},
   "outputs": [],
   "source": [
    "import matplotlib.pyplot as plt \n",
    "import torch\n",
    "import numpy as np \n",
    "import os\n",
    "\n",
    "CKP_PATH_TPN = \"models/TPN\"\n",
    "\n",
    "# get last checkpoint\n",
    "epoch_list = os.listdir(CKP_PATH_TPN)\n",
    "epoch_list_nums = [int(epoch.split(\"_\")[0]) for epoch in epoch_list]\n",
    "last_epoch = max(epoch_list_nums)\n",
    "D_CKP_PATH = os.path.join(CKP_PATH_TPN, f\"{last_epoch}_D.ckpt\")\n",
    "GD_CKP_PATH = os.path.join(CKP_PATH_TPN, f\"{last_epoch}_G_decoder.ckpt\")\n",
    "GE_CKP_PATH = os.path.join(CKP_PATH_TPN, f\"{last_epoch}_G_encoder.ckpt\")"
   ]
  },
  {
   "cell_type": "code",
   "execution_count": 6,
   "metadata": {},
   "outputs": [],
   "source": [
    "from skimage.color import lab2rgb, rgb2lab\n",
    "import warnings\n",
    "\n",
    "def lab2rgb_1d(in_lab, clip=True):\n",
    "    warnings.filterwarnings(\"ignore\")\n",
    "    tmp_rgb = lab2rgb(in_lab[np.newaxis, np.newaxis, :], illuminant='D50').flatten()\n",
    "    if clip:\n",
    "        tmp_rgb = np.clip(tmp_rgb, 0, 1)\n",
    "    return tmp_rgb"
   ]
  },
  {
   "cell_type": "code",
   "execution_count": 7,
   "metadata": {},
   "outputs": [
    {
     "name": "stderr",
     "output_type": "stream",
     "text": [
      "/var/folders/2c/s1dc7gqn0jz4dls2kprq822m0000gn/T/ipykernel_36578/2110445971.py:1: FutureWarning: You are using `torch.load` with `weights_only=False` (the current default value), which uses the default pickle module implicitly. It is possible to construct malicious pickle data which will execute arbitrary code during unpickling (See https://github.com/pytorch/pytorch/blob/main/SECURITY.md#untrusted-models for more details). In a future release, the default value for `weights_only` will be flipped to `True`. This limits the functions that could be executed during unpickling. Arbitrary objects will no longer be allowed to be loaded via this mode unless they are explicitly allowlisted by the user via `torch.serialization.add_safe_globals`. We recommend you start setting `weights_only=True` for any use case where you don't have full control of the loaded file. Please open an issue on GitHub for any issues related to this experimental feature.\n",
      "  D_state_dic = torch.load(D_CKP_PATH)\n",
      "/var/folders/2c/s1dc7gqn0jz4dls2kprq822m0000gn/T/ipykernel_36578/2110445971.py:2: FutureWarning: You are using `torch.load` with `weights_only=False` (the current default value), which uses the default pickle module implicitly. It is possible to construct malicious pickle data which will execute arbitrary code during unpickling (See https://github.com/pytorch/pytorch/blob/main/SECURITY.md#untrusted-models for more details). In a future release, the default value for `weights_only` will be flipped to `True`. This limits the functions that could be executed during unpickling. Arbitrary objects will no longer be allowed to be loaded via this mode unless they are explicitly allowlisted by the user via `torch.serialization.add_safe_globals`. We recommend you start setting `weights_only=True` for any use case where you don't have full control of the loaded file. Please open an issue on GitHub for any issues related to this experimental feature.\n",
      "  GD_state_dict = torch.load(GD_CKP_PATH)\n",
      "/var/folders/2c/s1dc7gqn0jz4dls2kprq822m0000gn/T/ipykernel_36578/2110445971.py:3: FutureWarning: You are using `torch.load` with `weights_only=False` (the current default value), which uses the default pickle module implicitly. It is possible to construct malicious pickle data which will execute arbitrary code during unpickling (See https://github.com/pytorch/pytorch/blob/main/SECURITY.md#untrusted-models for more details). In a future release, the default value for `weights_only` will be flipped to `True`. This limits the functions that could be executed during unpickling. Arbitrary objects will no longer be allowed to be loaded via this mode unless they are explicitly allowlisted by the user via `torch.serialization.add_safe_globals`. We recommend you start setting `weights_only=True` for any use case where you don't have full control of the loaded file. Please open an issue on GitHub for any issues related to this experimental feature.\n",
      "  GE_state_dict = torch.load(GE_CKP_PATH)\n"
     ]
    }
   ],
   "source": [
    "D_state_dic = torch.load(D_CKP_PATH)\n",
    "GD_state_dict = torch.load(GD_CKP_PATH)\n",
    "GE_state_dict = torch.load(GE_CKP_PATH)"
   ]
  },
  {
   "cell_type": "code",
   "execution_count": 8,
   "metadata": {},
   "outputs": [],
   "source": [
    "from model import PCN, TPN"
   ]
  },
  {
   "cell_type": "code",
   "execution_count": 9,
   "metadata": {},
   "outputs": [],
   "source": [
    "from solver import Solver"
   ]
  },
  {
   "cell_type": "code",
   "execution_count": 10,
   "metadata": {},
   "outputs": [
    {
     "name": "stdout",
     "output_type": "stream",
     "text": [
      "Loading 10183 palette names...\n",
      "Making text dictionary...\n",
      "Using pre-trained word embeddings...\n"
     ]
    }
   ],
   "source": [
    "# args taken from a sample training\n",
    "# args taken from a sample training\n",
    "from munch import Munch\n",
    "\n",
    "args = {\n",
    "    'hidden_size': 150,\n",
    "    'n_layers': 1,\n",
    "    'always_give_global_hint': 1,\n",
    "    'add_L': 1,\n",
    "    'mode': 'train_TPN',\n",
    "    'dataset': 'bird256',\n",
    "    'lr': 0.0005,\n",
    "    'num_epochs': 1000,\n",
    "    'resume_epoch': 100,\n",
    "    'batch_size': 32,\n",
    "    'dropout_p': 0.2,\n",
    "    'weight_decay': 5e-05,\n",
    "    'beta1': 0.5,\n",
    "    'beta2': 0.99,\n",
    "    'lambda_sL1': 100.0,\n",
    "    'lambda_KL': 0.5,\n",
    "    'lambda_GAN': 0.1,\n",
    "    'text2pal_dir': './models/TPN',\n",
    "    'pal2color_dir': './models/PCN',\n",
    "    'train_sample_dir': './samples/train',\n",
    "    'test_sample_dir': './samples/test',\n",
    "    'log_interval': 1,\n",
    "    'sample_interval': 20,\n",
    "    'save_interval': 50\n",
    "}\n",
    "\n",
    "args = Munch(args)\n",
    "\n",
    "solver_obj = Solver(args=args)"
   ]
  },
  {
   "cell_type": "code",
   "execution_count": 11,
   "metadata": {},
   "outputs": [
    {
     "data": {
      "text/plain": [
       "EncoderRNN(\n",
       "  (embed): Embed(\n",
       "    (embed): Embedding(4646, 300)\n",
       "  )\n",
       "  (gru): GRU(300, 150, dropout=0.2)\n",
       "  (ca_net): CA_NET(\n",
       "    (fc): Linear(in_features=150, out_features=300, bias=True)\n",
       "    (relu): ReLU()\n",
       "  )\n",
       ")"
      ]
     },
     "execution_count": 11,
     "metadata": {},
     "output_type": "execute_result"
    }
   ],
   "source": [
    "solver_obj.G.load_state_dict(GD_state_dict)\n",
    "solver_obj.D.load_state_dict(D_state_dic)\n",
    "solver_obj.encoder.load_state_dict(GE_state_dict)\n",
    "\n",
    "# turn into eval mode\n",
    "solver_obj.G.eval()\n",
    "solver_obj.D.eval()\n",
    "solver_obj.encoder.eval()"
   ]
  },
  {
   "cell_type": "code",
   "execution_count": 12,
   "metadata": {},
   "outputs": [],
   "source": [
    "NUM_GEN = 10\n",
    "IMSIZE = 256\n",
    "BATCH_SIZE = 1"
   ]
  },
  {
   "cell_type": "code",
   "execution_count": 13,
   "metadata": {},
   "outputs": [
    {
     "data": {
      "text/plain": [
       "11"
      ]
     },
     "execution_count": 13,
     "metadata": {},
     "output_type": "execute_result"
    }
   ],
   "source": [
    "solver_obj.input_dict.max_len"
   ]
  },
  {
   "cell_type": "code",
   "execution_count": 14,
   "metadata": {},
   "outputs": [
    {
     "name": "stdout",
     "output_type": "stream",
     "text": [
      "torch.Size([1, 300])\n",
      "torch.Size([300, 1, 150])\n",
      "torch.Size([1, 1, 150])\n",
      "torch.Size([300, 1, 150])\n",
      "torch.Size([300, 1, 150])\n",
      "torch.Size([300, 1, 150])\n",
      "torch.Size([1, 150])\n"
     ]
    }
   ],
   "source": [
    "# create an input text embedding\n",
    "TEXT_INP = \"bakery in the morning\"\n",
    "\n",
    "temp = [0] * 300\n",
    "for i, word in enumerate(TEXT_INP.split()):\n",
    "    temp[i] = solver_obj.input_dict.word2index[word]\n",
    "\n",
    "temp = torch.LongTensor([temp]).to(\"mps\")\n",
    "\n",
    "print(temp.shape)\n",
    "\n",
    "# get the text embedding\n",
    "hidden = solver_obj.encoder.init_hidden(BATCH_SIZE).to(\"mps\")\n",
    "encoder_outputs, decoder_hidden, mu, logvar = solver_obj.encoder(temp, hidden)\n",
    "print(encoder_outputs.shape)\n",
    "print(decoder_hidden.shape)\n",
    "print(mu.shape)\n",
    "print(logvar.shape)\n",
    "print(encoder_outputs.shape)\n",
    "print(decoder_hidden.squeeze(0).shape)\n",
    "decoder_hidden.squeeze(0).size()\n",
    "\n",
    "\n",
    "colors = torch.FloatTensor(1, 15).zero_().to(\"mps\")\n",
    "\n",
    "decoder_hidden = decoder_hidden.squeeze(0)\n",
    "\n",
    "for i in range(5):\n",
    "\n",
    "    palette = torch.FloatTensor(BATCH_SIZE, 3).zero_().to(\"mps\")\n",
    "    palette, decoder_context, decoder_hidden, _ = solver_obj.G(palette,\n",
    "                        decoder_hidden,\n",
    "                        encoder_outputs,\n",
    "                        1,\n",
    "                        i)\n",
    "    colors[:, 3 * i:3 * (i + 1)] = palette"
   ]
  },
  {
   "cell_type": "code",
   "execution_count": 15,
   "metadata": {},
   "outputs": [
    {
     "data": {
      "text/plain": [
       "tensor([[ 65.2210, -24.8606,  29.9913,  64.9723, -13.5165,  19.5137,  54.9016,\n",
       "          17.1296, -10.1052,  50.6721,  26.6768, -11.6823,  51.1452,  13.6597,\n",
       "         -18.9174]], device='mps:0', grad_fn=<CopySlices>)"
      ]
     },
     "execution_count": 15,
     "metadata": {},
     "output_type": "execute_result"
    }
   ],
   "source": [
    "colors"
   ]
  },
  {
   "cell_type": "code",
   "execution_count": 16,
   "metadata": {},
   "outputs": [],
   "source": [
    "fig1, axs1 = plt.subplots(nrows=1, ncols=5)\n",
    "axs1[0].set_title(TEXT_INP + '  fake')\n",
    "x = 0\n",
    "\n",
    "colors = colors.cpu()\n",
    "\n",
    "for k in range(5):\n",
    "    lab = np.array([colors.data[x][3 * k],\n",
    "                    colors.data[x][3 * k + 1],\n",
    "                    colors.data[x][3 * k + 2]], dtype='float64')\n",
    "    rgb = lab2rgb_1d(lab)\n",
    "    axs1[k].imshow([[rgb]])\n",
    "    axs1[k].axis('off')\n",
    "\n",
    "fig1.savefig('test_palette_eval.jpg')"
   ]
  },
  {
   "cell_type": "code",
   "execution_count": 25,
   "metadata": {},
   "outputs": [
    {
     "data": {
      "text/plain": [
       "'EOS'"
      ]
     },
     "execution_count": 25,
     "metadata": {},
     "output_type": "execute_result"
    }
   ],
   "source": [
    "max(solver_obj.input_dict.word2index.values())\n",
    "# solver_obj.input_dict.word2index.keys()\n",
    "solver_obj.input_dict.word2index['random']\n",
    "solver_obj.input_dict.index2word[1]"
   ]
  }
 ],
 "metadata": {
  "kernelspec": {
   "display_name": "elec542project",
   "language": "python",
   "name": "python3"
  },
  "language_info": {
   "codemirror_mode": {
    "name": "ipython",
    "version": 3
   },
   "file_extension": ".py",
   "mimetype": "text/x-python",
   "name": "python",
   "nbconvert_exporter": "python",
   "pygments_lexer": "ipython3",
   "version": "3.10.15"
  }
 },
 "nbformat": 4,
 "nbformat_minor": 2
}
